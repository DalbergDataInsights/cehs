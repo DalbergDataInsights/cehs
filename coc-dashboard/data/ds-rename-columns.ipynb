{
 "cells": [
  {
   "cell_type": "code",
   "execution_count": 32,
   "metadata": {},
   "outputs": [],
   "source": [
    "import pandas as pd\n",
    "from datetime import datetime"
   ]
  },
  {
   "source": [
    "# Will need to add the facility name mathcing also! and make sure tehcolumn name is facility_name, not facilityname\n",
    "\n",
    "# And also rerun the pipeline to make sure I dont have typo in the set up csv files "
   ],
   "cell_type": "markdown",
   "metadata": {}
  },
  {
   "cell_type": "code",
   "execution_count": 33,
   "metadata": {},
   "outputs": [],
   "source": [
    "data_path = \".\"\n",
    "fname = 'report_data.csv'\n",
    "fname_new = fname[:-4]+'_new.csv'\n",
    "data = data_path + '/' + fname"
   ]
  },
  {
   "cell_type": "code",
   "execution_count": 34,
   "metadata": {},
   "outputs": [],
   "source": [
    "df = pd.read_csv(data)"
   ]
  },
  {
   "cell_type": "code",
   "execution_count": 35,
   "metadata": {},
   "outputs": [],
   "source": [
    "dict_hpv_typo = {'hpv2__ school':'hpv2__school','hpv1__ school':'hpv1__school'}"
   ]
  },
  {
   "cell_type": "code",
   "execution_count": 36,
   "metadata": {},
   "outputs": [],
   "source": [
    "df=df.rename(columns=dict_hpv_typo)"
   ]
  },
  {
   "cell_type": "code",
   "execution_count": 37,
   "metadata": {},
   "outputs": [],
   "source": [
    "df.to_csv(fname, index=False)"
   ]
  },
  {
   "cell_type": "code",
   "execution_count": null,
   "metadata": {},
   "outputs": [],
   "source": []
  },
  {
   "cell_type": "code",
   "execution_count": 48,
   "metadata": {},
   "outputs": [],
   "source": [
    "lookup = pd.read_csv('lookup_facilities.csv')"
   ]
  },
  {
   "cell_type": "code",
   "execution_count": 49,
   "metadata": {},
   "outputs": [],
   "source": [
    "df = pd.merge(df, lookup[['facilitycode','facilityname']], left_on='orgUnit', right_on='facilitycode', how='left')"
   ]
  },
  {
   "cell_type": "code",
   "execution_count": 50,
   "metadata": {},
   "outputs": [],
   "source": [
    "df=df[['districtname','date','year', 'month', 'orgUnit', 'facilityname','type','1st_anc_visits', '4th_anc_visits',\n",
    "       'actual_105_1_reporting', 'anc_initiated_hiv', 'anc_tested_hiv',\n",
    "       'anc_tested_hiv_positive', 'bcg__u1_all', 'bcg__u1_outreach',\n",
    "       'bcg__u1_static', 'births', 'births_fresh_stillbirth', 'births_live',\n",
    "       'births_macerated_stillbirth', 'dpt1__u1_all', 'dpt1__u1_outreach',\n",
    "       'dpt1__u1_static', 'dpt3__u1_all', 'dpt3__u1_outreach',\n",
    "       'dpt3__u1_static', 'expected_105_1_reporting', 'hiv_positive_linked',\n",
    "       'hpv1__ school', 'hpv1__all-hpv', 'hpv1__community', 'hpv2__ school',\n",
    "       'hpv2__all-hpv', 'hpv2__community', 'ipd_attendance',\n",
    "       'low_weight_births', 'malaria_cases', 'malaria_cases_treated',\n",
    "       'malaria_deaths', 'malaria_tests', 'mam_identified',\n",
    "       'mat_initiated_hiv', 'mat_tested_hiv', 'mat_tested_hiv_positive',\n",
    "       'maternity_admissions', 'mr1__u1_all', 'mr1__u1_outreach',\n",
    "       'mr1__u1_static', 'newborn_deaths', 'opd_attendance', 'pcv1__u1_all',\n",
    "       'pcv1__u1_outreach', 'pcv1__u1_static', 'pcv3__u1_all',\n",
    "       'pcv3__u1_outreach', 'pcv3__u1_static', 'pnc_initiated_hiv',\n",
    "       'pnc_tested_hiv', 'pnc_tested_hiv_positive', 'postnatal_visits',\n",
    "       'sam_identified', 'tb_cases_registered', 'td1__nonpregnant',\n",
    "       'td1__pregnant', 'td2__nonpregnant', 'td2__pregnant',\n",
    "       'td3__nonpregnant', 'td3__pregnant', 'td4_5__nonpregnant',\n",
    "       'td4_5__pregnant', 'tested_hiv', 'tested_hiv_positive', 'vitamin_a']]"
   ]
  },
  {
   "cell_type": "code",
   "execution_count": 37,
   "metadata": {},
   "outputs": [
    {
     "output_type": "execute_result",
     "data": {
      "text/plain": "  districtname        date  year month      orgUnit            facilityname  \\\n0       WAKISO  2018-04-01  2018   Apr  A0KeWapELXA  HT Medical Clinic HCII   \n1       WAKISO  2018-08-01  2018   Aug  A0KeWapELXA  HT Medical Clinic HCII   \n2       WAKISO  2018-12-01  2018   Dec  A0KeWapELXA  HT Medical Clinic HCII   \n3       WAKISO  2018-02-01  2018   Feb  A0KeWapELXA  HT Medical Clinic HCII   \n4       WAKISO  2018-01-01  2018   Jan  A0KeWapELXA  HT Medical Clinic HCII   \n\n   type  1st_anc_visits  4th_anc_visits  actual_105_1_reporting  ...  \\\n0   NaN             NaN             NaN                       1  ...   \n1   NaN             NaN             NaN                       1  ...   \n2   NaN             NaN             NaN                       1  ...   \n3   NaN             NaN             NaN                       1  ...   \n4   NaN             NaN             NaN                       1  ...   \n\n   td1__pregnant  td2__nonpregnant  td2__pregnant  td3__nonpregnant  \\\n0            NaN               NaN            NaN               NaN   \n1            NaN               NaN            NaN               NaN   \n2            NaN               NaN            NaN               NaN   \n3            NaN               NaN            NaN               NaN   \n4            NaN               NaN            NaN               NaN   \n\n   td3__pregnant  td4_5__nonpregnant  td4_5__pregnant  tested_hiv  \\\n0            NaN                 NaN              NaN         NaN   \n1            NaN                 NaN              NaN         NaN   \n2            NaN                 NaN              NaN         NaN   \n3            NaN                 NaN              NaN         NaN   \n4            NaN                 NaN              NaN         NaN   \n\n   tested_hiv_positive  vitamin_a  \n0                  NaN        NaN  \n1                  NaN        NaN  \n2                  NaN        NaN  \n3                  NaN        NaN  \n4                  NaN        NaN  \n\n[5 rows x 73 columns]",
      "text/html": "<div>\n<style scoped>\n    .dataframe tbody tr th:only-of-type {\n        vertical-align: middle;\n    }\n\n    .dataframe tbody tr th {\n        vertical-align: top;\n    }\n\n    .dataframe thead th {\n        text-align: right;\n    }\n</style>\n<table border=\"1\" class=\"dataframe\">\n  <thead>\n    <tr style=\"text-align: right;\">\n      <th></th>\n      <th>districtname</th>\n      <th>date</th>\n      <th>year</th>\n      <th>month</th>\n      <th>orgUnit</th>\n      <th>facilityname</th>\n      <th>type</th>\n      <th>1st_anc_visits</th>\n      <th>4th_anc_visits</th>\n      <th>actual_105_1_reporting</th>\n      <th>...</th>\n      <th>td1__pregnant</th>\n      <th>td2__nonpregnant</th>\n      <th>td2__pregnant</th>\n      <th>td3__nonpregnant</th>\n      <th>td3__pregnant</th>\n      <th>td4_5__nonpregnant</th>\n      <th>td4_5__pregnant</th>\n      <th>tested_hiv</th>\n      <th>tested_hiv_positive</th>\n      <th>vitamin_a</th>\n    </tr>\n  </thead>\n  <tbody>\n    <tr>\n      <th>0</th>\n      <td>WAKISO</td>\n      <td>2018-04-01</td>\n      <td>2018</td>\n      <td>Apr</td>\n      <td>A0KeWapELXA</td>\n      <td>HT Medical Clinic HCII</td>\n      <td>NaN</td>\n      <td>NaN</td>\n      <td>NaN</td>\n      <td>1</td>\n      <td>...</td>\n      <td>NaN</td>\n      <td>NaN</td>\n      <td>NaN</td>\n      <td>NaN</td>\n      <td>NaN</td>\n      <td>NaN</td>\n      <td>NaN</td>\n      <td>NaN</td>\n      <td>NaN</td>\n      <td>NaN</td>\n    </tr>\n    <tr>\n      <th>1</th>\n      <td>WAKISO</td>\n      <td>2018-08-01</td>\n      <td>2018</td>\n      <td>Aug</td>\n      <td>A0KeWapELXA</td>\n      <td>HT Medical Clinic HCII</td>\n      <td>NaN</td>\n      <td>NaN</td>\n      <td>NaN</td>\n      <td>1</td>\n      <td>...</td>\n      <td>NaN</td>\n      <td>NaN</td>\n      <td>NaN</td>\n      <td>NaN</td>\n      <td>NaN</td>\n      <td>NaN</td>\n      <td>NaN</td>\n      <td>NaN</td>\n      <td>NaN</td>\n      <td>NaN</td>\n    </tr>\n    <tr>\n      <th>2</th>\n      <td>WAKISO</td>\n      <td>2018-12-01</td>\n      <td>2018</td>\n      <td>Dec</td>\n      <td>A0KeWapELXA</td>\n      <td>HT Medical Clinic HCII</td>\n      <td>NaN</td>\n      <td>NaN</td>\n      <td>NaN</td>\n      <td>1</td>\n      <td>...</td>\n      <td>NaN</td>\n      <td>NaN</td>\n      <td>NaN</td>\n      <td>NaN</td>\n      <td>NaN</td>\n      <td>NaN</td>\n      <td>NaN</td>\n      <td>NaN</td>\n      <td>NaN</td>\n      <td>NaN</td>\n    </tr>\n    <tr>\n      <th>3</th>\n      <td>WAKISO</td>\n      <td>2018-02-01</td>\n      <td>2018</td>\n      <td>Feb</td>\n      <td>A0KeWapELXA</td>\n      <td>HT Medical Clinic HCII</td>\n      <td>NaN</td>\n      <td>NaN</td>\n      <td>NaN</td>\n      <td>1</td>\n      <td>...</td>\n      <td>NaN</td>\n      <td>NaN</td>\n      <td>NaN</td>\n      <td>NaN</td>\n      <td>NaN</td>\n      <td>NaN</td>\n      <td>NaN</td>\n      <td>NaN</td>\n      <td>NaN</td>\n      <td>NaN</td>\n    </tr>\n    <tr>\n      <th>4</th>\n      <td>WAKISO</td>\n      <td>2018-01-01</td>\n      <td>2018</td>\n      <td>Jan</td>\n      <td>A0KeWapELXA</td>\n      <td>HT Medical Clinic HCII</td>\n      <td>NaN</td>\n      <td>NaN</td>\n      <td>NaN</td>\n      <td>1</td>\n      <td>...</td>\n      <td>NaN</td>\n      <td>NaN</td>\n      <td>NaN</td>\n      <td>NaN</td>\n      <td>NaN</td>\n      <td>NaN</td>\n      <td>NaN</td>\n      <td>NaN</td>\n      <td>NaN</td>\n      <td>NaN</td>\n    </tr>\n  </tbody>\n</table>\n<p>5 rows × 73 columns</p>\n</div>"
     },
     "metadata": {},
     "execution_count": 37
    }
   ],
   "source": [
    "df.head()"
   ]
  },
  {
   "cell_type": "code",
   "execution_count": null,
   "metadata": {},
   "outputs": [],
   "source": []
  },
  {
   "cell_type": "code",
   "execution_count": 60,
   "metadata": {},
   "outputs": [],
   "source": [
    "df['date'] = df['year'].astype(str) + '-' + df['month']"
   ]
  },
  {
   "cell_type": "code",
   "execution_count": 61,
   "metadata": {},
   "outputs": [],
   "source": [
    "def format_date(date):\n",
    "    dates = ['Jan', 'Feb', 'Mar', 'Apr', 'May', 'Jun', 'Jul', 'Aug', 'Sep', 'Oct', 'Nov', 'Dec']\n",
    "    assert len(dates) == 12\n",
    "    year, month = date.split('-')\n",
    "    month_order = str(dates.index(month)+1)\n",
    "    month_order = '0' + month_order if len(month_order) == 1 else month_order\n",
    "    return year + '-' + month_order + '-01'"
   ]
  },
  {
   "cell_type": "code",
   "execution_count": 62,
   "metadata": {},
   "outputs": [],
   "source": [
    "df['date'] = df.date.apply(format_date)"
   ]
  },
  {
   "cell_type": "code",
   "execution_count": 63,
   "metadata": {},
   "outputs": [],
   "source": [
    "df['type'] = ''"
   ]
  },
  {
   "cell_type": "code",
   "execution_count": 65,
   "metadata": {},
   "outputs": [],
   "source": [
    "df = pd.merge(df, lookup, left_on='orgUnit', right_on='facilitycode', how='left')"
   ]
  },
  {
   "cell_type": "code",
   "execution_count": 66,
   "metadata": {},
   "outputs": [],
   "source": [
    "rename_dict = {\n",
    "    'districtname': 'id',\n",
    "    'date': 'date',\n",
    "    'year': 'year',\n",
    "    'month': 'month',\n",
    "    'orgUnit': 'facility_id',\n",
    "    'type': 'type',\n",
    "    '1st_anc_visits': '1st_anc_visits',\n",
    "    '4th_anc_visits': '4th_anc_visits',\n",
    "    'maternity_admissions' : 'maternity_admissions',\n",
    "    'births':'deliveries_in_unit',\n",
    "    'births_live': 'deliveries_in_unit_live',\n",
    "    'births_fresh_stillbirth': 'deliveries_in_unit_fresh_stillbirth',\n",
    "    'births_macerated_stillbirth': 'deliveries_in_unit_macerated_stillbirth',\n",
    "    'newborn_deaths': 'newborn_deaths',\n",
    "    'postnatal_visits': 'postnatal_visits',\n",
    "    'low_weight_births': 'low_weigh_births',\n",
    "    'bcg': 'bcg',\n",
    "    'dpt1': 'dpt1',\n",
    "    'dpt3': 'dpt3',\n",
    "    'hpv1': 'hpv1',\n",
    "    'hpv2': 'hpv2',\n",
    "    'mr1': 'mr1',\n",
    "    'pcv1': 'pcv1',\n",
    "    'pcv3': 'pcv3',\n",
    "    'td1': 'td1',\n",
    "    'td2': 'td2',\n",
    "    'td3': 'td3',\n",
    "    'td4_5': 'td45',\n",
    "    'malaria_cases': 'malaria_cases',\n",
    "    'opd_attendance': 'opd_attendance',\n",
    "    'malaria_cases_treated': 'malaria_cases_treated',\n",
    "    'malaria_tests': 'malaria_tests',\n",
    "    'mat_tested_hiv_positive': 'mat_tested_hiv_positive',\n",
    "    'mat_tested_hiv': 'mat_tested_hiv',\n",
    "    'malaria_deaths': 'malaria_deaths',\n",
    "    'anc_tested_hiv': 'anc_tested_hiv',\n",
    "    'anc_tested_hiv_positive': 'anc_tested_hiv_positive',\n",
    "    'anc_initiated_hiv': 'anc_initiated_on_art',\n",
    "    'tested_hiv': 'tested_hiv',\n",
    "    'tested_hiv_positive': 'tested_hiv_positive',\n",
    "    'hiv_positive_linked': 'hiv_positive_linked_to_care',\n",
    "    'mat_initiated_hiv': 'mat_initiated_on_art',\n",
    "    'pnc_tested_hiv': 'pnc_tested_hiv',\n",
    "    'pnc_tested_hiv_positive': 'pnc_tested_hiv_positive',\n",
    "    'pnc_initiated_hiv': 'pnc_initiated_on_art',\n",
    "    'ipd_attendance': 'ipd_attendance',\n",
    "    'tb_cases_registered': 'tb_cases_registered',\n",
    "    'vitamin_a': 'number_of_doses_of_vitamin_a_distributed',\n",
    "    'sam_identified': 'number_of_sam_admissions',\n",
    "    'mam_identified' :'number_of_mam_admissions'    \n",
    "    }"
   ]
  },
  {
   "cell_type": "code",
   "execution_count": 67,
   "metadata": {},
   "outputs": [],
   "source": [
    "#df.rename(columns=rename_dict, inplace=True)"
   ]
  },
  {
   "cell_type": "code",
   "execution_count": 68,
   "metadata": {},
   "outputs": [],
   "source": [
    "def replace_report(rep):\n",
    "    rep_dict = {\n",
    "        'not_expected_to_report': 'not_expected',\n",
    "        'reported_on_this_indic': 'positive_indic',\n",
    "        'did_not_report_on_this_indic': 'no_positive_indic',\n",
    "        'did_not_report_on_this_indic_nor_on_105_1_form': 'no_form_report'\n",
    "    }\n",
    "    return rep_dict.get(rep, rep)"
   ]
  },
  {
   "cell_type": "code",
   "execution_count": 69,
   "metadata": {},
   "outputs": [],
   "source": [
    "for col in df.columns:\n",
    "    df[col] = df[col].apply(replace_report)"
   ]
  },
  {
   "cell_type": "code",
   "execution_count": 70,
   "metadata": {},
   "outputs": [],
   "source": [
    "df=df[['districtname','date','year', 'month', 'orgUnit', 'facilityname','type','1st_anc_visits', '4th_anc_visits',\n",
    "       'actual_105_1_reporting', 'anc_initiated_hiv', 'anc_tested_hiv',\n",
    "       'anc_tested_hiv_positive', 'bcg__u1_all', 'bcg__u1_outreach',\n",
    "       'bcg__u1_static', 'births', 'births_fresh_stillbirth', 'births_live',\n",
    "       'births_macerated_stillbirth', 'dpt1__u1_all', 'dpt1__u1_outreach',\n",
    "       'dpt1__u1_static', 'dpt3__u1_all', 'dpt3__u1_outreach',\n",
    "       'dpt3__u1_static', 'expected_105_1_reporting', 'hiv_positive_linked',\n",
    "       'hpv1__ school', 'hpv1__all-hpv', 'hpv1__community', 'hpv2__ school',\n",
    "       'hpv2__all-hpv', 'hpv2__community', 'ipd_attendance',\n",
    "       'low_weight_births', 'malaria_cases', 'malaria_cases_treated',\n",
    "       'malaria_deaths', 'malaria_tests', 'mam_identified',\n",
    "       'mat_initiated_hiv', 'mat_tested_hiv', 'mat_tested_hiv_positive',\n",
    "       'maternity_admissions', 'mr1__u1_all', 'mr1__u1_outreach',\n",
    "       'mr1__u1_static', 'newborn_deaths', 'opd_attendance', 'pcv1__u1_all',\n",
    "       'pcv1__u1_outreach', 'pcv1__u1_static', 'pcv3__u1_all',\n",
    "       'pcv3__u1_outreach', 'pcv3__u1_static', 'pnc_initiated_hiv',\n",
    "       'pnc_tested_hiv', 'pnc_tested_hiv_positive', 'postnatal_visits',\n",
    "       'sam_identified', 'tb_cases_registered', 'td1__nonpregnant',\n",
    "       'td1__pregnant', 'td2__nonpregnant', 'td2__pregnant',\n",
    "       'td3__nonpregnant', 'td3__pregnant', 'td4_5__nonpregnant',\n",
    "       'td4_5__pregnant', 'tested_hiv', 'tested_hiv_positive', 'vitamin_a']]"
   ]
  },
  {
   "cell_type": "code",
   "execution_count": 71,
   "metadata": {},
   "outputs": [
    {
     "output_type": "execute_result",
     "data": {
      "text/plain": "  districtname        date  year month      orgUnit type     1st_anc_visits  \\\n0       WAKISO  2018-04-01  2018   Apr  A0KeWapELXA       no_positive_indic   \n1       WAKISO  2018-08-01  2018   Aug  A0KeWapELXA       no_positive_indic   \n2       WAKISO  2018-12-01  2018   Dec  A0KeWapELXA       no_positive_indic   \n3       WAKISO  2018-02-01  2018   Feb  A0KeWapELXA       no_positive_indic   \n4       WAKISO  2018-01-01  2018   Jan  A0KeWapELXA       no_positive_indic   \n\n      4th_anc_visits actual_105_1_reporting  anc_initiated_hiv  ...  \\\n0  no_positive_indic         positive_indic  no_positive_indic  ...   \n1  no_positive_indic         positive_indic  no_positive_indic  ...   \n2  no_positive_indic         positive_indic  no_positive_indic  ...   \n3  no_positive_indic         positive_indic  no_positive_indic  ...   \n4  no_positive_indic         positive_indic  no_positive_indic  ...   \n\n       td1__pregnant   td2__nonpregnant      td2__pregnant   td3__nonpregnant  \\\n0  no_positive_indic  no_positive_indic  no_positive_indic  no_positive_indic   \n1  no_positive_indic  no_positive_indic  no_positive_indic  no_positive_indic   \n2  no_positive_indic  no_positive_indic  no_positive_indic  no_positive_indic   \n3  no_positive_indic  no_positive_indic  no_positive_indic  no_positive_indic   \n4  no_positive_indic  no_positive_indic  no_positive_indic  no_positive_indic   \n\n       td3__pregnant td4_5__nonpregnant    td4_5__pregnant         tested_hiv  \\\n0  no_positive_indic  no_positive_indic  no_positive_indic  no_positive_indic   \n1  no_positive_indic  no_positive_indic  no_positive_indic  no_positive_indic   \n2  no_positive_indic  no_positive_indic  no_positive_indic  no_positive_indic   \n3  no_positive_indic  no_positive_indic  no_positive_indic  no_positive_indic   \n4  no_positive_indic  no_positive_indic  no_positive_indic  no_positive_indic   \n\n  tested_hiv_positive          vitamin_a  \n0   no_positive_indic  no_positive_indic  \n1   no_positive_indic  no_positive_indic  \n2   no_positive_indic  no_positive_indic  \n3   no_positive_indic  no_positive_indic  \n4   no_positive_indic  no_positive_indic  \n\n[5 rows x 72 columns]",
      "text/html": "<div>\n<style scoped>\n    .dataframe tbody tr th:only-of-type {\n        vertical-align: middle;\n    }\n\n    .dataframe tbody tr th {\n        vertical-align: top;\n    }\n\n    .dataframe thead th {\n        text-align: right;\n    }\n</style>\n<table border=\"1\" class=\"dataframe\">\n  <thead>\n    <tr style=\"text-align: right;\">\n      <th></th>\n      <th>districtname</th>\n      <th>date</th>\n      <th>year</th>\n      <th>month</th>\n      <th>orgUnit</th>\n      <th>type</th>\n      <th>1st_anc_visits</th>\n      <th>4th_anc_visits</th>\n      <th>actual_105_1_reporting</th>\n      <th>anc_initiated_hiv</th>\n      <th>...</th>\n      <th>td1__pregnant</th>\n      <th>td2__nonpregnant</th>\n      <th>td2__pregnant</th>\n      <th>td3__nonpregnant</th>\n      <th>td3__pregnant</th>\n      <th>td4_5__nonpregnant</th>\n      <th>td4_5__pregnant</th>\n      <th>tested_hiv</th>\n      <th>tested_hiv_positive</th>\n      <th>vitamin_a</th>\n    </tr>\n  </thead>\n  <tbody>\n    <tr>\n      <th>0</th>\n      <td>WAKISO</td>\n      <td>2018-04-01</td>\n      <td>2018</td>\n      <td>Apr</td>\n      <td>A0KeWapELXA</td>\n      <td></td>\n      <td>no_positive_indic</td>\n      <td>no_positive_indic</td>\n      <td>positive_indic</td>\n      <td>no_positive_indic</td>\n      <td>...</td>\n      <td>no_positive_indic</td>\n      <td>no_positive_indic</td>\n      <td>no_positive_indic</td>\n      <td>no_positive_indic</td>\n      <td>no_positive_indic</td>\n      <td>no_positive_indic</td>\n      <td>no_positive_indic</td>\n      <td>no_positive_indic</td>\n      <td>no_positive_indic</td>\n      <td>no_positive_indic</td>\n    </tr>\n    <tr>\n      <th>1</th>\n      <td>WAKISO</td>\n      <td>2018-08-01</td>\n      <td>2018</td>\n      <td>Aug</td>\n      <td>A0KeWapELXA</td>\n      <td></td>\n      <td>no_positive_indic</td>\n      <td>no_positive_indic</td>\n      <td>positive_indic</td>\n      <td>no_positive_indic</td>\n      <td>...</td>\n      <td>no_positive_indic</td>\n      <td>no_positive_indic</td>\n      <td>no_positive_indic</td>\n      <td>no_positive_indic</td>\n      <td>no_positive_indic</td>\n      <td>no_positive_indic</td>\n      <td>no_positive_indic</td>\n      <td>no_positive_indic</td>\n      <td>no_positive_indic</td>\n      <td>no_positive_indic</td>\n    </tr>\n    <tr>\n      <th>2</th>\n      <td>WAKISO</td>\n      <td>2018-12-01</td>\n      <td>2018</td>\n      <td>Dec</td>\n      <td>A0KeWapELXA</td>\n      <td></td>\n      <td>no_positive_indic</td>\n      <td>no_positive_indic</td>\n      <td>positive_indic</td>\n      <td>no_positive_indic</td>\n      <td>...</td>\n      <td>no_positive_indic</td>\n      <td>no_positive_indic</td>\n      <td>no_positive_indic</td>\n      <td>no_positive_indic</td>\n      <td>no_positive_indic</td>\n      <td>no_positive_indic</td>\n      <td>no_positive_indic</td>\n      <td>no_positive_indic</td>\n      <td>no_positive_indic</td>\n      <td>no_positive_indic</td>\n    </tr>\n    <tr>\n      <th>3</th>\n      <td>WAKISO</td>\n      <td>2018-02-01</td>\n      <td>2018</td>\n      <td>Feb</td>\n      <td>A0KeWapELXA</td>\n      <td></td>\n      <td>no_positive_indic</td>\n      <td>no_positive_indic</td>\n      <td>positive_indic</td>\n      <td>no_positive_indic</td>\n      <td>...</td>\n      <td>no_positive_indic</td>\n      <td>no_positive_indic</td>\n      <td>no_positive_indic</td>\n      <td>no_positive_indic</td>\n      <td>no_positive_indic</td>\n      <td>no_positive_indic</td>\n      <td>no_positive_indic</td>\n      <td>no_positive_indic</td>\n      <td>no_positive_indic</td>\n      <td>no_positive_indic</td>\n    </tr>\n    <tr>\n      <th>4</th>\n      <td>WAKISO</td>\n      <td>2018-01-01</td>\n      <td>2018</td>\n      <td>Jan</td>\n      <td>A0KeWapELXA</td>\n      <td></td>\n      <td>no_positive_indic</td>\n      <td>no_positive_indic</td>\n      <td>positive_indic</td>\n      <td>no_positive_indic</td>\n      <td>...</td>\n      <td>no_positive_indic</td>\n      <td>no_positive_indic</td>\n      <td>no_positive_indic</td>\n      <td>no_positive_indic</td>\n      <td>no_positive_indic</td>\n      <td>no_positive_indic</td>\n      <td>no_positive_indic</td>\n      <td>no_positive_indic</td>\n      <td>no_positive_indic</td>\n      <td>no_positive_indic</td>\n    </tr>\n  </tbody>\n</table>\n<p>5 rows × 72 columns</p>\n</div>"
     },
     "metadata": {},
     "execution_count": 71
    }
   ],
   "source": [
    "df.head()"
   ]
  },
  {
   "cell_type": "code",
   "execution_count": 72,
   "metadata": {},
   "outputs": [],
   "source": [
    "df.to_csv(fname_new, index=False)"
   ]
  },
  {
   "cell_type": "code",
   "execution_count": null,
   "metadata": {},
   "outputs": [],
   "source": []
  }
 ],
 "metadata": {
  "kernelspec": {
   "display_name": "Python 3",
   "language": "python",
   "name": "python3"
  },
  "language_info": {
   "codemirror_mode": {
    "name": "ipython",
    "version": 3
   },
   "file_extension": ".py",
   "mimetype": "text/x-python",
   "name": "python",
   "nbconvert_exporter": "python",
   "pygments_lexer": "ipython3",
   "version": "3.8.2-final"
  }
 },
 "nbformat": 4,
 "nbformat_minor": 4
}