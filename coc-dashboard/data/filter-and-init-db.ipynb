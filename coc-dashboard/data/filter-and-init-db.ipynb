{
 "cells": [
  {
   "cell_type": "code",
   "execution_count": 1,
   "metadata": {},
   "outputs": [],
   "source": [
    "import pandas as pd"
   ]
  },
  {
   "cell_type": "code",
   "execution_count": null,
   "metadata": {},
   "outputs": [],
   "source": []
  },
  {
   "cell_type": "code",
   "execution_count": 44,
   "metadata": {},
   "outputs": [],
   "source": [
    "# districts \n",
    "\n",
    "df = pd.read_csv('./outlier_data.csv')"
   ]
  },
  {
   "cell_type": "code",
   "execution_count": 3,
   "metadata": {},
   "outputs": [],
   "source": [
    "districts = df['districtname'].sort_values().unique()"
   ]
  },
  {
   "cell_type": "code",
   "execution_count": 4,
   "metadata": {},
   "outputs": [],
   "source": [
    "districts = pd.DataFrame(districts)"
   ]
  },
  {
   "cell_type": "code",
   "execution_count": 5,
   "metadata": {},
   "outputs": [],
   "source": [
    "districts = districts.reset_index()"
   ]
  },
  {
   "cell_type": "code",
   "execution_count": 6,
   "metadata": {},
   "outputs": [],
   "source": [
    "districts.columns = [\"id\", \"name\"]"
   ]
  },
  {
   "cell_type": "code",
   "execution_count": null,
   "metadata": {},
   "outputs": [],
   "source": []
  },
  {
   "cell_type": "code",
   "execution_count": 7,
   "metadata": {},
   "outputs": [],
   "source": [
    "#from sqlalchemy import create_engine"
   ]
  },
  {
   "cell_type": "code",
   "execution_count": 8,
   "metadata": {},
   "outputs": [],
   "source": [
    "#engine = create_engine(\"sqlite:///db.sqlite\")"
   ]
  },
  {
   "cell_type": "code",
   "execution_count": 9,
   "metadata": {},
   "outputs": [],
   "source": [
    "#districts.to_sql(\"district\", engine, if_exists='append', index=False)"
   ]
  },
  {
   "cell_type": "code",
   "execution_count": null,
   "metadata": {},
   "outputs": [],
   "source": []
  },
  {
   "cell_type": "code",
   "execution_count": 10,
   "metadata": {},
   "outputs": [],
   "source": [
    "pop = pd.read_csv(\"./pop.csv\")"
   ]
  },
  {
   "cell_type": "code",
   "execution_count": 11,
   "metadata": {},
   "outputs": [],
   "source": [
    "cols = list(pop.columns)"
   ]
  },
  {
   "cell_type": "code",
   "execution_count": 12,
   "metadata": {},
   "outputs": [
    {
     "data": {
      "text/plain": [
       "'id'"
      ]
     },
     "execution_count": 12,
     "metadata": {},
     "output_type": "execute_result"
    }
   ],
   "source": [
    "cols.pop(cols.index(\"id\"))"
   ]
  },
  {
   "cell_type": "code",
   "execution_count": 13,
   "metadata": {},
   "outputs": [
    {
     "data": {
      "text/plain": [
       "['year',\n",
       " 'male',\n",
       " 'female',\n",
       " 'total',\n",
       " 'childbearing_age',\n",
       " 'pregnants',\n",
       " 'not_pregnant',\n",
       " 'births',\n",
       " 'u1',\n",
       " 'u5',\n",
       " 'u15',\n",
       " 'suspect_tb']"
      ]
     },
     "execution_count": 13,
     "metadata": {},
     "output_type": "execute_result"
    }
   ],
   "source": [
    "cols"
   ]
  },
  {
   "cell_type": "code",
   "execution_count": 14,
   "metadata": {},
   "outputs": [],
   "source": [
    "pop = pd.merge(pop, districts, left_on=\"id\", right_on=\"name\", suffixes=(\"\", \"dis\"))"
   ]
  },
  {
   "cell_type": "code",
   "execution_count": 15,
   "metadata": {},
   "outputs": [],
   "source": [
    "pop = pop[cols+[\"iddis\"]][[\"iddis\"]+cols]"
   ]
  },
  {
   "cell_type": "code",
   "execution_count": 16,
   "metadata": {},
   "outputs": [],
   "source": [
    "pop = pop.rename(columns={\"iddis\": \"district_id\", \"pregnants\": \"pregnant\"})"
   ]
  },
  {
   "cell_type": "code",
   "execution_count": 17,
   "metadata": {},
   "outputs": [],
   "source": [
    "#pop.to_sql(\"population\", engine, if_exists=\"append\", index=False)"
   ]
  },
  {
   "cell_type": "code",
   "execution_count": null,
   "metadata": {},
   "outputs": [],
   "source": []
  },
  {
   "cell_type": "code",
   "execution_count": 18,
   "metadata": {},
   "outputs": [],
   "source": [
    "facility = df[[\"districtname\", \"orgUnit\", \"facility_name\"]]"
   ]
  },
  {
   "cell_type": "code",
   "execution_count": 19,
   "metadata": {},
   "outputs": [],
   "source": [
    "facility = pd.merge(facility, districts, left_on=\"districtname\", right_on=\"name\")[[\"id\", \"orgUnit\", \"facility_name\"]]"
   ]
  },
  {
   "cell_type": "code",
   "execution_count": 20,
   "metadata": {},
   "outputs": [],
   "source": [
    "facility.columns = [\"district_id\", \"id\", \"name\"]"
   ]
  },
  {
   "cell_type": "code",
   "execution_count": 21,
   "metadata": {},
   "outputs": [],
   "source": [
    "facility = facility[[\"id\", \"name\", \"district_id\"]].drop_duplicates().reset_index(drop=True)"
   ]
  },
  {
   "cell_type": "code",
   "execution_count": 22,
   "metadata": {},
   "outputs": [],
   "source": [
    "#facility.to_sql(\"facility\", engine, if_exists='append', index=False)"
   ]
  },
  {
   "cell_type": "code",
   "execution_count": null,
   "metadata": {},
   "outputs": [],
   "source": []
  },
  {
   "cell_type": "code",
   "execution_count": null,
   "metadata": {},
   "outputs": [],
   "source": []
  },
  {
   "cell_type": "code",
   "execution_count": 23,
   "metadata": {},
   "outputs": [],
   "source": [
    "indicator = pd.read_csv(\"./columns.csv\")"
   ]
  },
  {
   "cell_type": "code",
   "execution_count": 24,
   "metadata": {},
   "outputs": [],
   "source": [
    "indicator = indicator[indicator.index>5].reset_index(drop=True)"
   ]
  },
  {
   "cell_type": "code",
   "execution_count": 25,
   "metadata": {},
   "outputs": [],
   "source": [
    "indicator.columns = [\"id\", \"name\", \"view\"]"
   ]
  },
  {
   "cell_type": "code",
   "execution_count": 26,
   "metadata": {},
   "outputs": [],
   "source": [
    "#indicator.to_sql(\"indicator\", engine, index=False, if_exists=\"append\")"
   ]
  },
  {
   "cell_type": "code",
   "execution_count": null,
   "metadata": {},
   "outputs": [],
   "source": []
  },
  {
   "cell_type": "code",
   "execution_count": 27,
   "metadata": {},
   "outputs": [],
   "source": [
    "indicator_groups = pd.read_csv(\"./groups.csv\")[[\"Choose an indicator group\", \"Choose an indicator\"]]"
   ]
  },
  {
   "cell_type": "code",
   "execution_count": 28,
   "metadata": {},
   "outputs": [],
   "source": [
    "indicator_groups.columns = [\"group\", \"name\"]"
   ]
  },
  {
   "cell_type": "code",
   "execution_count": 29,
   "metadata": {},
   "outputs": [],
   "source": [
    "indicator_groups = pd.merge(indicator_groups, indicator)[[\"group\", \"id\"]]"
   ]
  },
  {
   "cell_type": "code",
   "execution_count": 30,
   "metadata": {},
   "outputs": [],
   "source": [
    "indicator_groups.columns = [\"name\", \"indicator_id\"]"
   ]
  },
  {
   "cell_type": "code",
   "execution_count": 31,
   "metadata": {},
   "outputs": [],
   "source": [
    "#indicator_groups.to_sql(\"indicator_group\", engine, if_exists=\"append\", index=False)"
   ]
  },
  {
   "cell_type": "code",
   "execution_count": 32,
   "metadata": {},
   "outputs": [],
   "source": [
    "# Create dropdown view\n",
    "\n",
    "dropdown_indicator = '''\n",
    "CREATE VIEW dropdown_indicator AS \n",
    "SELECT indicator_group.name as 'Choose a group',\n",
    "       indicator.name as 'Choose an indicator'\n",
    "FROM indicator \n",
    "JOIN indicator_group\n",
    "WHERE indicator.id = indicator_group.indicator_id\n",
    "'''"
   ]
  },
  {
   "cell_type": "code",
   "execution_count": 33,
   "metadata": {},
   "outputs": [],
   "source": [
    "#from sqlalchemy.orm import sessionmaker"
   ]
  },
  {
   "cell_type": "code",
   "execution_count": 34,
   "metadata": {},
   "outputs": [],
   "source": [
    "#Session = sessionmaker(engine)"
   ]
  },
  {
   "cell_type": "code",
   "execution_count": 35,
   "metadata": {},
   "outputs": [],
   "source": [
    "#session = Session()"
   ]
  },
  {
   "cell_type": "code",
   "execution_count": 36,
   "metadata": {},
   "outputs": [],
   "source": [
    "#session.execute(dropdown_indicator)"
   ]
  },
  {
   "cell_type": "code",
   "execution_count": null,
   "metadata": {},
   "outputs": [],
   "source": []
  },
  {
   "cell_type": "code",
   "execution_count": null,
   "metadata": {},
   "outputs": [],
   "source": []
  },
  {
   "cell_type": "code",
   "execution_count": 37,
   "metadata": {},
   "outputs": [],
   "source": [
    "def get_tall_from_wide(df, value_column=\"value\"):\n",
    "    df = df.drop(columns=[\"districtname\", \"year\", \"month\", \"actual_105_1_reporting\", \"type\", \"facility_name\", \"expected_105_1_reporting\"])\n",
    "    df = df.melt(id_vars=[\"orgUnit\", \"date\"])\n",
    "    df = df[~pd.isna(df.value)]\n",
    "    df = df.sort_values(by=[\"date\", \"orgUnit\"])\n",
    "    df.columns = [\"facility_id\", \"date\", \"indicator\", value_column]\n",
    "    df = df.reset_index(drop=True)\n",
    "    return df"
   ]
  },
  {
   "cell_type": "code",
   "execution_count": 45,
   "metadata": {},
   "outputs": [],
   "source": [
    "df = get_tall_from_wide(df, \"value_raw\")"
   ]
  },
  {
   "cell_type": "code",
   "execution_count": 39,
   "metadata": {},
   "outputs": [],
   "source": [
    "df_std = pd.read_csv('./std_no_outlier_data.csv')"
   ]
  },
  {
   "cell_type": "code",
   "execution_count": 40,
   "metadata": {},
   "outputs": [],
   "source": [
    "df_std = get_tall_from_wide(df_std, \"value_std\")"
   ]
  },
  {
   "cell_type": "code",
   "execution_count": 46,
   "metadata": {},
   "outputs": [],
   "source": [
    "df = pd.merge(df, df_std)"
   ]
  },
  {
   "cell_type": "code",
   "execution_count": 47,
   "metadata": {},
   "outputs": [],
   "source": [
    "del df_std"
   ]
  },
  {
   "cell_type": "code",
   "execution_count": null,
   "metadata": {},
   "outputs": [],
   "source": []
  },
  {
   "cell_type": "code",
   "execution_count": 48,
   "metadata": {},
   "outputs": [],
   "source": [
    "df_iqr = pd.read_csv('./iqr_no_outlier_data.csv')"
   ]
  },
  {
   "cell_type": "code",
   "execution_count": 49,
   "metadata": {},
   "outputs": [],
   "source": [
    "df_iqr = get_tall_from_wide(df_iqr, \"value_iqr\")"
   ]
  },
  {
   "cell_type": "code",
   "execution_count": 50,
   "metadata": {},
   "outputs": [],
   "source": [
    "df = pd.merge(df, df_iqr)"
   ]
  },
  {
   "cell_type": "code",
   "execution_count": 51,
   "metadata": {},
   "outputs": [],
   "source": [
    "del df_iqr"
   ]
  },
  {
   "cell_type": "code",
   "execution_count": null,
   "metadata": {},
   "outputs": [],
   "source": []
  },
  {
   "cell_type": "code",
   "execution_count": null,
   "metadata": {},
   "outputs": [],
   "source": [
    "#df.to_sql(\"repository\", engine, if_exists=\"append\", index=False)"
   ]
  },
  {
   "cell_type": "code",
   "execution_count": null,
   "metadata": {},
   "outputs": [],
   "source": [
    "#el df"
   ]
  },
  {
   "cell_type": "code",
   "execution_count": null,
   "metadata": {},
   "outputs": [],
   "source": []
  },
  {
   "cell_type": "code",
   "execution_count": null,
   "metadata": {},
   "outputs": [],
   "source": []
  },
  {
   "cell_type": "code",
   "execution_count": null,
   "metadata": {},
   "outputs": [],
   "source": [
    "dataset_query = '''\n",
    "CREATE VIEW dataset AS\n",
    "SELECT district_name, facility_name, date, name as indicator_name, value_raw, value_std, value_iqr, value_rep\n",
    "FROM (\n",
    "      SELECT *\n",
    "      FROM repository\n",
    "      JOIN indicator\n",
    "      WHERE repository.indicator = indicator.id\n",
    "      )\n",
    "JOIN\n",
    "    (\n",
    "    SELECT facility.id, facility.name as facility_name, district.name as district_name\n",
    "    FROM facility\n",
    "    JOIN district\n",
    "    WHERE district.id = facility.district_id\n",
    "    ) as facilities\n",
    "    WHERE facility_id = facilities.id;\n",
    "'''"
   ]
  },
  {
   "cell_type": "code",
   "execution_count": null,
   "metadata": {},
   "outputs": [],
   "source": []
  },
  {
   "cell_type": "code",
   "execution_count": null,
   "metadata": {},
   "outputs": [],
   "source": [
    "# dropdown view directly in the database"
   ]
  },
  {
   "cell_type": "code",
   "execution_count": null,
   "metadata": {},
   "outputs": [],
   "source": []
  },
  {
   "cell_type": "code",
   "execution_count": 52,
   "metadata": {},
   "outputs": [
    {
     "data": {
      "text/html": [
       "<div>\n",
       "<style scoped>\n",
       "    .dataframe tbody tr th:only-of-type {\n",
       "        vertical-align: middle;\n",
       "    }\n",
       "\n",
       "    .dataframe tbody tr th {\n",
       "        vertical-align: top;\n",
       "    }\n",
       "\n",
       "    .dataframe thead th {\n",
       "        text-align: right;\n",
       "    }\n",
       "</style>\n",
       "<table border=\"1\" class=\"dataframe\">\n",
       "  <thead>\n",
       "    <tr style=\"text-align: right;\">\n",
       "      <th></th>\n",
       "      <th>facility_id</th>\n",
       "      <th>date</th>\n",
       "      <th>indicator</th>\n",
       "      <th>value</th>\n",
       "      <th>value_std</th>\n",
       "      <th>value_iqr</th>\n",
       "    </tr>\n",
       "  </thead>\n",
       "  <tbody>\n",
       "    <tr>\n",
       "      <th>0</th>\n",
       "      <td>A0KeWapELXA</td>\n",
       "      <td>2018-01-01</td>\n",
       "      <td>opd_attendance</td>\n",
       "      <td>57.0</td>\n",
       "      <td>57.0</td>\n",
       "      <td>57.0</td>\n",
       "    </tr>\n",
       "    <tr>\n",
       "      <th>1</th>\n",
       "      <td>A15NLokfXbV</td>\n",
       "      <td>2018-01-01</td>\n",
       "      <td>bcg__u1_all</td>\n",
       "      <td>6.0</td>\n",
       "      <td>6.0</td>\n",
       "      <td>6.0</td>\n",
       "    </tr>\n",
       "    <tr>\n",
       "      <th>2</th>\n",
       "      <td>A15NLokfXbV</td>\n",
       "      <td>2018-01-01</td>\n",
       "      <td>bcg__u1_static</td>\n",
       "      <td>6.0</td>\n",
       "      <td>6.0</td>\n",
       "      <td>6.0</td>\n",
       "    </tr>\n",
       "    <tr>\n",
       "      <th>3</th>\n",
       "      <td>A15NLokfXbV</td>\n",
       "      <td>2018-01-01</td>\n",
       "      <td>dpt1__u1_all</td>\n",
       "      <td>7.0</td>\n",
       "      <td>7.0</td>\n",
       "      <td>7.0</td>\n",
       "    </tr>\n",
       "    <tr>\n",
       "      <th>4</th>\n",
       "      <td>A15NLokfXbV</td>\n",
       "      <td>2018-01-01</td>\n",
       "      <td>dpt1__u1_static</td>\n",
       "      <td>7.0</td>\n",
       "      <td>7.0</td>\n",
       "      <td>7.0</td>\n",
       "    </tr>\n",
       "    <tr>\n",
       "      <th>...</th>\n",
       "      <td>...</td>\n",
       "      <td>...</td>\n",
       "      <td>...</td>\n",
       "      <td>...</td>\n",
       "      <td>...</td>\n",
       "      <td>...</td>\n",
       "    </tr>\n",
       "    <tr>\n",
       "      <th>4597839</th>\n",
       "      <td>zyI8GDUVYdE</td>\n",
       "      <td>2020-08-01</td>\n",
       "      <td>tb_cases_registered</td>\n",
       "      <td>1.0</td>\n",
       "      <td>1.0</td>\n",
       "      <td>1.0</td>\n",
       "    </tr>\n",
       "    <tr>\n",
       "      <th>4597840</th>\n",
       "      <td>zyI8GDUVYdE</td>\n",
       "      <td>2020-08-01</td>\n",
       "      <td>td1__pregnant</td>\n",
       "      <td>147.0</td>\n",
       "      <td>147.0</td>\n",
       "      <td>147.0</td>\n",
       "    </tr>\n",
       "    <tr>\n",
       "      <th>4597841</th>\n",
       "      <td>zyI8GDUVYdE</td>\n",
       "      <td>2020-08-01</td>\n",
       "      <td>td2__pregnant</td>\n",
       "      <td>120.0</td>\n",
       "      <td>120.0</td>\n",
       "      <td>120.0</td>\n",
       "    </tr>\n",
       "    <tr>\n",
       "      <th>4597842</th>\n",
       "      <td>zyI8GDUVYdE</td>\n",
       "      <td>2020-08-01</td>\n",
       "      <td>td3__pregnant</td>\n",
       "      <td>5.0</td>\n",
       "      <td>5.0</td>\n",
       "      <td>5.0</td>\n",
       "    </tr>\n",
       "    <tr>\n",
       "      <th>4597843</th>\n",
       "      <td>zyI8GDUVYdE</td>\n",
       "      <td>2020-08-01</td>\n",
       "      <td>vitamin_a</td>\n",
       "      <td>421.0</td>\n",
       "      <td>421.0</td>\n",
       "      <td>421.0</td>\n",
       "    </tr>\n",
       "  </tbody>\n",
       "</table>\n",
       "<p>4597844 rows × 6 columns</p>\n",
       "</div>"
      ],
      "text/plain": [
       "         facility_id        date            indicator  value  value_std  \\\n",
       "0        A0KeWapELXA  2018-01-01       opd_attendance   57.0       57.0   \n",
       "1        A15NLokfXbV  2018-01-01          bcg__u1_all    6.0        6.0   \n",
       "2        A15NLokfXbV  2018-01-01       bcg__u1_static    6.0        6.0   \n",
       "3        A15NLokfXbV  2018-01-01         dpt1__u1_all    7.0        7.0   \n",
       "4        A15NLokfXbV  2018-01-01      dpt1__u1_static    7.0        7.0   \n",
       "...              ...         ...                  ...    ...        ...   \n",
       "4597839  zyI8GDUVYdE  2020-08-01  tb_cases_registered    1.0        1.0   \n",
       "4597840  zyI8GDUVYdE  2020-08-01        td1__pregnant  147.0      147.0   \n",
       "4597841  zyI8GDUVYdE  2020-08-01        td2__pregnant  120.0      120.0   \n",
       "4597842  zyI8GDUVYdE  2020-08-01        td3__pregnant    5.0        5.0   \n",
       "4597843  zyI8GDUVYdE  2020-08-01            vitamin_a  421.0      421.0   \n",
       "\n",
       "         value_iqr  \n",
       "0             57.0  \n",
       "1              6.0  \n",
       "2              6.0  \n",
       "3              7.0  \n",
       "4              7.0  \n",
       "...            ...  \n",
       "4597839        1.0  \n",
       "4597840      147.0  \n",
       "4597841      120.0  \n",
       "4597842        5.0  \n",
       "4597843      421.0  \n",
       "\n",
       "[4597844 rows x 6 columns]"
      ]
     },
     "execution_count": 52,
     "metadata": {},
     "output_type": "execute_result"
    }
   ],
   "source": [
    "df"
   ]
  },
  {
   "cell_type": "code",
   "execution_count": 62,
   "metadata": {},
   "outputs": [],
   "source": [
    "reporting = pd.read_csv('./report_data.csv')"
   ]
  },
  {
   "cell_type": "code",
   "execution_count": 63,
   "metadata": {},
   "outputs": [],
   "source": [
    "reporting = get_tall_from_wide(reporting, \"value_rep\")"
   ]
  },
  {
   "cell_type": "code",
   "execution_count": 64,
   "metadata": {},
   "outputs": [],
   "source": [
    "df = pd.merge(reporting, df, how='left')"
   ]
  },
  {
   "cell_type": "code",
   "execution_count": 65,
   "metadata": {},
   "outputs": [],
   "source": [
    "del reporting"
   ]
  },
  {
   "cell_type": "code",
   "execution_count": 69,
   "metadata": {},
   "outputs": [
    {
     "data": {
      "text/html": [
       "<div>\n",
       "<style scoped>\n",
       "    .dataframe tbody tr th:only-of-type {\n",
       "        vertical-align: middle;\n",
       "    }\n",
       "\n",
       "    .dataframe tbody tr th {\n",
       "        vertical-align: top;\n",
       "    }\n",
       "\n",
       "    .dataframe thead th {\n",
       "        text-align: right;\n",
       "    }\n",
       "</style>\n",
       "<table border=\"1\" class=\"dataframe\">\n",
       "  <thead>\n",
       "    <tr style=\"text-align: right;\">\n",
       "      <th></th>\n",
       "      <th>facility_id</th>\n",
       "      <th>date</th>\n",
       "      <th>indicator</th>\n",
       "      <th>value_rep</th>\n",
       "      <th>value_raw</th>\n",
       "      <th>value_std</th>\n",
       "      <th>value_iqr</th>\n",
       "    </tr>\n",
       "  </thead>\n",
       "  <tbody>\n",
       "    <tr>\n",
       "      <th>0</th>\n",
       "      <td>A0KeWapELXA</td>\n",
       "      <td>2018-01-01</td>\n",
       "      <td>1st_anc_visits</td>\n",
       "      <td>no_positive_indic</td>\n",
       "      <td>NaN</td>\n",
       "      <td>NaN</td>\n",
       "      <td>NaN</td>\n",
       "    </tr>\n",
       "    <tr>\n",
       "      <th>1</th>\n",
       "      <td>A0KeWapELXA</td>\n",
       "      <td>2018-01-01</td>\n",
       "      <td>4th_anc_visits</td>\n",
       "      <td>no_positive_indic</td>\n",
       "      <td>NaN</td>\n",
       "      <td>NaN</td>\n",
       "      <td>NaN</td>\n",
       "    </tr>\n",
       "    <tr>\n",
       "      <th>2</th>\n",
       "      <td>A0KeWapELXA</td>\n",
       "      <td>2018-01-01</td>\n",
       "      <td>anc_initiated_hiv</td>\n",
       "      <td>no_positive_indic</td>\n",
       "      <td>NaN</td>\n",
       "      <td>NaN</td>\n",
       "      <td>NaN</td>\n",
       "    </tr>\n",
       "    <tr>\n",
       "      <th>3</th>\n",
       "      <td>A0KeWapELXA</td>\n",
       "      <td>2018-01-01</td>\n",
       "      <td>anc_tested_hiv</td>\n",
       "      <td>no_positive_indic</td>\n",
       "      <td>NaN</td>\n",
       "      <td>NaN</td>\n",
       "      <td>NaN</td>\n",
       "    </tr>\n",
       "    <tr>\n",
       "      <th>4</th>\n",
       "      <td>A0KeWapELXA</td>\n",
       "      <td>2018-01-01</td>\n",
       "      <td>anc_tested_hiv_positive</td>\n",
       "      <td>no_positive_indic</td>\n",
       "      <td>NaN</td>\n",
       "      <td>NaN</td>\n",
       "      <td>NaN</td>\n",
       "    </tr>\n",
       "    <tr>\n",
       "      <th>...</th>\n",
       "      <td>...</td>\n",
       "      <td>...</td>\n",
       "      <td>...</td>\n",
       "      <td>...</td>\n",
       "      <td>...</td>\n",
       "      <td>...</td>\n",
       "      <td>...</td>\n",
       "    </tr>\n",
       "    <tr>\n",
       "      <th>5730335</th>\n",
       "      <td>aVLWD9zrowf</td>\n",
       "      <td>2020-08-01</td>\n",
       "      <td>td4_5__nonpregnant</td>\n",
       "      <td>no_positive_indic</td>\n",
       "      <td>NaN</td>\n",
       "      <td>NaN</td>\n",
       "      <td>NaN</td>\n",
       "    </tr>\n",
       "    <tr>\n",
       "      <th>5730336</th>\n",
       "      <td>aVLWD9zrowf</td>\n",
       "      <td>2020-08-01</td>\n",
       "      <td>td4_5__pregnant</td>\n",
       "      <td>no_positive_indic</td>\n",
       "      <td>NaN</td>\n",
       "      <td>NaN</td>\n",
       "      <td>NaN</td>\n",
       "    </tr>\n",
       "    <tr>\n",
       "      <th>5730337</th>\n",
       "      <td>aVLWD9zrowf</td>\n",
       "      <td>2020-08-01</td>\n",
       "      <td>tested_hiv</td>\n",
       "      <td>no_positive_indic</td>\n",
       "      <td>NaN</td>\n",
       "      <td>NaN</td>\n",
       "      <td>NaN</td>\n",
       "    </tr>\n",
       "    <tr>\n",
       "      <th>5730338</th>\n",
       "      <td>aVLWD9zrowf</td>\n",
       "      <td>2020-08-01</td>\n",
       "      <td>tested_hiv_positive</td>\n",
       "      <td>no_positive_indic</td>\n",
       "      <td>NaN</td>\n",
       "      <td>NaN</td>\n",
       "      <td>NaN</td>\n",
       "    </tr>\n",
       "    <tr>\n",
       "      <th>5730339</th>\n",
       "      <td>aVLWD9zrowf</td>\n",
       "      <td>2020-08-01</td>\n",
       "      <td>vitamin_a</td>\n",
       "      <td>positive_indic</td>\n",
       "      <td>32.0</td>\n",
       "      <td>32.0</td>\n",
       "      <td>32.0</td>\n",
       "    </tr>\n",
       "  </tbody>\n",
       "</table>\n",
       "<p>5730340 rows × 7 columns</p>\n",
       "</div>"
      ],
      "text/plain": [
       "         facility_id        date                indicator          value_rep  \\\n",
       "0        A0KeWapELXA  2018-01-01           1st_anc_visits  no_positive_indic   \n",
       "1        A0KeWapELXA  2018-01-01           4th_anc_visits  no_positive_indic   \n",
       "2        A0KeWapELXA  2018-01-01        anc_initiated_hiv  no_positive_indic   \n",
       "3        A0KeWapELXA  2018-01-01           anc_tested_hiv  no_positive_indic   \n",
       "4        A0KeWapELXA  2018-01-01  anc_tested_hiv_positive  no_positive_indic   \n",
       "...              ...         ...                      ...                ...   \n",
       "5730335  aVLWD9zrowf  2020-08-01       td4_5__nonpregnant  no_positive_indic   \n",
       "5730336  aVLWD9zrowf  2020-08-01          td4_5__pregnant  no_positive_indic   \n",
       "5730337  aVLWD9zrowf  2020-08-01               tested_hiv  no_positive_indic   \n",
       "5730338  aVLWD9zrowf  2020-08-01      tested_hiv_positive  no_positive_indic   \n",
       "5730339  aVLWD9zrowf  2020-08-01                vitamin_a     positive_indic   \n",
       "\n",
       "         value_raw  value_std  value_iqr  \n",
       "0              NaN        NaN        NaN  \n",
       "1              NaN        NaN        NaN  \n",
       "2              NaN        NaN        NaN  \n",
       "3              NaN        NaN        NaN  \n",
       "4              NaN        NaN        NaN  \n",
       "...            ...        ...        ...  \n",
       "5730335        NaN        NaN        NaN  \n",
       "5730336        NaN        NaN        NaN  \n",
       "5730337        NaN        NaN        NaN  \n",
       "5730338        NaN        NaN        NaN  \n",
       "5730339       32.0       32.0       32.0  \n",
       "\n",
       "[5730340 rows x 7 columns]"
      ]
     },
     "execution_count": 69,
     "metadata": {},
     "output_type": "execute_result"
    }
   ],
   "source": [
    "df"
   ]
  },
  {
   "cell_type": "code",
   "execution_count": 70,
   "metadata": {},
   "outputs": [],
   "source": [
    "df.to_csv(\"repo.csv\")"
   ]
  },
  {
   "cell_type": "code",
   "execution_count": null,
   "metadata": {},
   "outputs": [],
   "source": []
  }
 ],
 "metadata": {
  "kernelspec": {
   "display_name": "Python 3",
   "language": "python",
   "name": "python3"
  },
  "language_info": {
   "codemirror_mode": {
    "name": "ipython",
    "version": 3
   },
   "file_extension": ".py",
   "mimetype": "text/x-python",
   "name": "python",
   "nbconvert_exporter": "python",
   "pygments_lexer": "ipython3",
   "version": "3.7.6"
  }
 },
 "nbformat": 4,
 "nbformat_minor": 4
}